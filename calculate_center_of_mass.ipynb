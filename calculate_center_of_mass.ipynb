{
 "cells": [
  {
   "cell_type": "markdown",
   "metadata": {},
   "source": [
    "# Center of mass for each molecule of a dimer"
   ]
  },
  {
   "cell_type": "code",
   "execution_count": 2,
   "metadata": {},
   "outputs": [
    {
     "name": "stdout",
     "output_type": "stream",
     "text": [
      "-1.5192235062480295 -0.056766187419790295 0.0\n",
      "1.387526052619776 0.05717480447264767 0.0\n"
     ]
    }
   ],
   "source": [
    "#open files and read in data for the coordinates and mass of each atom\n",
    "\n",
    "#writeFile: enter the name of the output file\n",
    "writeFile = open(\"center_of_mass_output\", \"w\")\n",
    "\n",
    "#massFile: enter the name of the file that contains the atmoic mass\n",
    "massFile = open(\"atomic_mass\", \"r\")\n",
    "\n",
    "#dimerFile: enter the name of the file that has the coordinates for the molecules\n",
    "dimerFile = open(\"water_dimer.xyz\", \"r\")\n",
    "\n",
    "massData = massFile.readlines()\n",
    "dimerData = dimerFile.readlines()\n",
    "massFile.close()\n",
    "dimerFile.close()\n",
    "\n",
    "lineCount = int(dimerData[0])\n",
    "atomicMass = []\n",
    "dimerPos = []\n",
    "dimerMass = []\n",
    "molMass1 = 0\n",
    "molMass2 = 0\n",
    "molecule1Sum = [0, 0, 0]\n",
    "molecule2Sum = [0, 0, 0]\n",
    "\n",
    "#parse the atomic mass file\n",
    "for line in massData:\n",
    "    line = line.strip()\n",
    "    atomicMass.append(line.split())\n",
    "\n",
    "#parse the dimer file\n",
    "for i in range(2, lineCount+2):\n",
    "    line = dimerData[i].strip().split()\n",
    "    dimerPos.append(line)\n",
    "\n",
    "#use atomic mass to calculate molecular mass, define position and mass respective of each atom\n",
    "#INPUT: atomic mass; OUTPUT: molecular mass\n",
    "#INPUT: coordinates and atomic mass; OUTPUT: mass at each coordinate\n",
    "for i in range(0, lineCount):\n",
    "    mass = 0\n",
    "\n",
    "    for line in atomicMass:\n",
    "        if dimerPos[i][0] in line:\n",
    "            mass = line[1]\n",
    "\n",
    "            #calculate molecular mass\n",
    "            #check if at molecule 1 or molecule 2, then add mass\n",
    "            if i < lineCount//2:\n",
    "                molMass1 = molMass1 + float(mass)\n",
    "            else:\n",
    "                molMass2 = molMass2 + float(mass)\n",
    "            break\n",
    "#assign mass to the coordinates of each atom\n",
    "    x = float(dimerPos[i][1]) * float(mass)\n",
    "    y = float(dimerPos[i][2]) * float(mass)\n",
    "    z = float(dimerPos[i][3]) * float(mass)\n",
    "    dimerMass.append([x, y, z])\n",
    "\n",
    "#calculate the sum of masses for each set of x, y, and z coordinates for both molecules\n",
    "#INPUT: mass at each set of x, y, or z, OUTPUT: sum of mass for all x, y, and z of the molecules\n",
    "for i in range(0, lineCount):\n",
    "\n",
    "    #check if molecule 1 or 2\n",
    "    if i < lineCount//2:\n",
    "        molecule1Sum[0] = molecule1Sum[0] + dimerMass[i][0]\n",
    "        molecule1Sum[1] = molecule1Sum[1] + dimerMass[i][1]\n",
    "        molecule1Sum[2] = molecule1Sum[2] + dimerMass[i][2]\n",
    "\n",
    "    if i >= lineCount // 2:\n",
    "        molecule2Sum[0] = molecule2Sum[0] + dimerMass[i][0]\n",
    "        molecule2Sum[1] = molecule2Sum[1] + dimerMass[i][1]\n",
    "        molecule2Sum[2] = molecule2Sum[2] + dimerMass[i][2]\n",
    "\n",
    "\n",
    "#find center of mass by dividing coords*mass by the molecular mass\n",
    "#(gives coordinates for mass center of each molecule)\n",
    "#INPUT: sum of mass for the coordinates of each molecule / molecular mass of the molecule\n",
    "#OUTPUT: center of mass coordinates for the molecules\n",
    "for i in range(0, 3):\n",
    "    molecule1Sum[i] = molecule1Sum[i] / molMass1\n",
    "    molecule2Sum[i] = molecule2Sum[i] / molMass2\n",
    "\n",
    "\n",
    "#print coordinates and write to file\n",
    "#INPUT: output file name and center of mass coordinates; OUTPUT: output file with center of mass coordinates\n",
    "print(str(molecule1Sum[0]) + \" \" + str(molecule1Sum[1]) + \" \" + str(molecule1Sum[2]))\n",
    "print(str(molecule2Sum[0]) + \" \" + str(molecule2Sum[1]) + \" \" + str(molecule2Sum[2]))\n",
    "writeFile.write(\"Molecule 1 center of mass coordinates: \" + str(molecule1Sum[0]) + \" \" + str(molecule1Sum[1]) + \" \" + str(molecule1Sum[2]))\n",
    "writeFile.write(\"\\nMolecule 2 center of mass coordinates: \" + str(molecule2Sum[0]) + \" \" + str(molecule2Sum[1]) + \" \" + str(molecule2Sum[2]))\n",
    "writeFile.close()\n"
   ]
  },
  {
   "cell_type": "code",
   "execution_count": null,
   "metadata": {},
   "outputs": [],
   "source": []
  }
 ],
 "metadata": {
  "kernelspec": {
   "display_name": "Python 3 (ipykernel)",
   "language": "python",
   "name": "python3"
  },
  "language_info": {
   "codemirror_mode": {
    "name": "ipython",
    "version": 3
   },
   "file_extension": ".py",
   "mimetype": "text/x-python",
   "name": "python",
   "nbconvert_exporter": "python",
   "pygments_lexer": "ipython3",
   "version": "3.9.7"
  }
 },
 "nbformat": 4,
 "nbformat_minor": 2
}
